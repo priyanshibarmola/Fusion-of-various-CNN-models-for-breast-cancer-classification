{
  "cells": [
    {
      "cell_type": "markdown",
      "source": [
        "1. Import Necessary Libraries\n",
        "\n",
        "TensorFlow/Keras: For building and training the model.\n",
        "\n",
        "zipfile: To extract the dataset from a ZIP archive.\n",
        "\n",
        "os and shutil: For directory management.\n",
        "\n",
        "sklearn.model_selection: Provides tools like train_test_split\n"
      ],
      "metadata": {
        "id": "5ar5OA4bnZBM"
      }
    },
    {
      "cell_type": "code",
      "execution_count": 1,
      "metadata": {
        "id": "sRodFTkLXVmt"
      },
      "outputs": [],
      "source": [
        "import tensorflow as tf\n",
        "from tensorflow.keras.preprocessing.image import ImageDataGenerator\n",
        "from tensorflow.keras.applications import VGG19\n",
        "from tensorflow.keras.models import Sequential\n",
        "from tensorflow.keras.layers import Dense, Flatten, Dropout\n",
        "from sklearn.model_selection import train_test_split\n",
        "import os\n",
        "import zipfile\n",
        "import shutil"
      ]
    },
    {
      "cell_type": "markdown",
      "source": [
        "2.SETTING UP DIRECTORIES"
      ],
      "metadata": {
        "id": "-SoLEMbYnkkC"
      }
    },
    {
      "cell_type": "code",
      "execution_count": 2,
      "metadata": {
        "id": "S3h8XJFav9VR"
      },
      "outputs": [],
      "source": [
        "# Set up directories for training and validation data\n",
        "train_dir = '/content/dataset'\n",
        "val_dir = '/content/dataset'"
      ]
    },
    {
      "cell_type": "markdown",
      "source": [
        "3.EXTRACTING THE DATASET"
      ],
      "metadata": {
        "id": "yhJ7irCvnsio"
      }
    },
    {
      "cell_type": "code",
      "execution_count": 3,
      "metadata": {
        "id": "wMJB4s9SXX9u"
      },
      "outputs": [],
      "source": [
        "# Step 1: Extract Dataset\n",
        "zip_path = '/content/dataset.zip'  # Replace with your zip file path\n",
        "extract_dir = 'dataset'\n",
        "\n",
        "with zipfile.ZipFile(zip_path, 'r') as zip_ref:\n",
        "    zip_ref.extractall(extract_dir)"
      ]
    },
    {
      "cell_type": "markdown",
      "source": [
        "4.PREPROCESSING THE DATASET"
      ],
      "metadata": {
        "id": "21qccVcwnzMN"
      }
    },
    {
      "cell_type": "code",
      "execution_count": 4,
      "metadata": {
        "colab": {
          "base_uri": "https://localhost:8080/"
        },
        "id": "ws4-4iKSXuvB",
        "outputId": "3242d67d-c527-40e4-c257-4e1b1e81d4dc"
      },
      "outputs": [
        {
          "output_type": "stream",
          "name": "stdout",
          "text": [
            "Found 1050 images belonging to 1 classes.\n",
            "Found 262 images belonging to 1 classes.\n"
          ]
        }
      ],
      "source": [
        "from tensorflow.keras.preprocessing.image import ImageDataGenerator\n",
        "\n",
        "# Set up data augmentation and preprocessing\n",
        "train_datagen = ImageDataGenerator(rescale=1./255, validation_split=0.2)\n",
        "\n",
        "# Train generator\n",
        "train_generator = train_datagen.flow_from_directory(\n",
        "    extract_dir,\n",
        "    target_size=(224, 224),  # Resize images to 224x224 (compatible with VGG16 input size)\n",
        "    batch_size=32,\n",
        "    class_mode='binary',  # Binary classification (benign/malignant)\n",
        "    subset='training'  # Use 80% of data for training\n",
        ")\n",
        "\n",
        "# Validation generator\n",
        "val_generator = train_datagen.flow_from_directory(\n",
        "    extract_dir,\n",
        "    target_size=(224, 224),\n",
        "    batch_size=32,\n",
        "    class_mode='binary',\n",
        "    subset='validation'  # Use 20% of data for validation\n",
        ")\n"
      ]
    },
    {
      "cell_type": "markdown",
      "source": [
        "5.LOADING THE PRETRAINED VGG-19 MODEL"
      ],
      "metadata": {
        "id": "MMuQfjibn72E"
      }
    },
    {
      "cell_type": "code",
      "execution_count": 5,
      "metadata": {
        "id": "Ld2iCfGkw3j3",
        "colab": {
          "base_uri": "https://localhost:8080/"
        },
        "outputId": "3991c3fc-5232-48c3-825a-92c89908fa58"
      },
      "outputs": [
        {
          "output_type": "stream",
          "name": "stdout",
          "text": [
            "Downloading data from https://storage.googleapis.com/tensorflow/keras-applications/vgg19/vgg19_weights_tf_dim_ordering_tf_kernels_notop.h5\n",
            "\u001b[1m80134624/80134624\u001b[0m \u001b[32m━━━━━━━━━━━━━━━━━━━━\u001b[0m\u001b[37m\u001b[0m \u001b[1m0s\u001b[0m 0us/step\n"
          ]
        }
      ],
      "source": [
        "# Load the VGG-19 model with pretrained weights, excluding the top layers\n",
        "base_model = VGG19(weights='imagenet', include_top=False, input_shape=(224, 224, 3))\n"
      ]
    },
    {
      "cell_type": "markdown",
      "source": [
        "6.UPDATING PRETRAINED LAYERS"
      ],
      "metadata": {
        "id": "OfExwCq2oCIA"
      }
    },
    {
      "cell_type": "code",
      "execution_count": 6,
      "metadata": {
        "id": "KQQ5iJw9cPxc"
      },
      "outputs": [],
      "source": [
        "\n",
        "# Freeze the base model layers\n",
        "for layer in base_model.layers:\n",
        "    layer.trainable = True"
      ]
    },
    {
      "cell_type": "code",
      "execution_count": 7,
      "metadata": {
        "id": "u9OfUa_Nx7Ak"
      },
      "outputs": [],
      "source": [
        "from tensorflow.keras.models import Model\n",
        "from tensorflow.keras.optimizers import Adam"
      ]
    },
    {
      "cell_type": "markdown",
      "source": [
        "7.ADDING CUSTOM LAYERS"
      ],
      "metadata": {
        "id": "y-q_h8EnoHsW"
      }
    },
    {
      "cell_type": "code",
      "execution_count": 8,
      "metadata": {
        "id": "TQxf537GcU66"
      },
      "outputs": [],
      "source": [
        "# Add custom layers on top of VGG-19\n",
        "x = base_model.output\n",
        "x = Flatten()(x)\n",
        "x = Dense(512, activation='relu')(x)\n",
        "x = Dropout(0.5)(x)\n",
        "x = Dense(1, activation='sigmoid')(x)\n",
        "\n",
        "# Create the complete model\n",
        "model = Model(inputs=base_model.input, outputs=x)\n"
      ]
    },
    {
      "cell_type": "markdown",
      "source": [
        "8.COMPILE THE MODEL"
      ],
      "metadata": {
        "id": "l7JvzNtOoMZC"
      }
    },
    {
      "cell_type": "code",
      "execution_count": 9,
      "metadata": {
        "id": "VgSmOEzqrZAL"
      },
      "outputs": [],
      "source": [
        "# Compile the model\n",
        "model.compile(optimizer=Adam(learning_rate=0.0001), loss='binary_crossentropy', metrics=['accuracy'])\n"
      ]
    },
    {
      "cell_type": "markdown",
      "source": [
        "9.TRAIN THE MODEL"
      ],
      "metadata": {
        "id": "LChLibV_oRdP"
      }
    },
    {
      "cell_type": "code",
      "execution_count": 10,
      "metadata": {
        "id": "4SvdI6qCca4R",
        "colab": {
          "base_uri": "https://localhost:8080/"
        },
        "outputId": "9e8c1a02-d173-4dc6-f0d2-7c1d141ea497"
      },
      "outputs": [
        {
          "output_type": "stream",
          "name": "stderr",
          "text": [
            "/usr/local/lib/python3.11/dist-packages/keras/src/trainers/data_adapters/py_dataset_adapter.py:121: UserWarning: Your `PyDataset` class should call `super().__init__(**kwargs)` in its constructor. `**kwargs` can include `workers`, `use_multiprocessing`, `max_queue_size`. Do not pass these arguments to `fit()`, as they will be ignored.\n",
            "  self._warn_if_super_not_called()\n"
          ]
        },
        {
          "output_type": "stream",
          "name": "stdout",
          "text": [
            "Epoch 1/10\n",
            "\u001b[1m32/32\u001b[0m \u001b[32m━━━━━━━━━━━━━━━━━━━━\u001b[0m\u001b[37m\u001b[0m \u001b[1m2741s\u001b[0m 86s/step - accuracy: 0.8873 - loss: 0.1491 - val_accuracy: 1.0000 - val_loss: 2.5848e-31\n",
            "Epoch 2/10\n",
            "\u001b[1m 1/32\u001b[0m \u001b[37m━━━━━━━━━━━━━━━━━━━━\u001b[0m \u001b[1m41:13\u001b[0m 80s/step - accuracy: 1.0000 - loss: 5.2028e-30"
          ]
        },
        {
          "output_type": "stream",
          "name": "stderr",
          "text": [
            "/usr/local/lib/python3.11/dist-packages/keras/src/trainers/epoch_iterator.py:107: UserWarning: Your input ran out of data; interrupting training. Make sure that your dataset or generator can generate at least `steps_per_epoch * epochs` batches. You may need to use the `.repeat()` function when building your dataset.\n",
            "  self._interrupted_warning()\n"
          ]
        },
        {
          "output_type": "stream",
          "name": "stdout",
          "text": [
            "\b\b\b\b\b\b\b\b\b\b\b\b\b\b\b\b\b\b\b\b\b\b\b\b\b\b\b\b\b\b\b\b\b\b\b\b\b\b\b\b\b\b\b\b\b\b\b\b\b\b\b\b\b\b\b\b\b\b\b\b\b\b\b\b\b\b\b\b\b\b\b\b\b\b\b\b\b\b\b\r\u001b[1m32/32\u001b[0m \u001b[32m━━━━━━━━━━━━━━━━━━━━\u001b[0m\u001b[37m\u001b[0m \u001b[1m322s\u001b[0m 8s/step - accuracy: 1.0000 - loss: 5.2028e-30 - val_accuracy: 1.0000 - val_loss: 1.1505e-31\n",
            "Epoch 3/10\n",
            "\u001b[1m32/32\u001b[0m \u001b[32m━━━━━━━━━━━━━━━━━━━━\u001b[0m\u001b[37m\u001b[0m \u001b[1m2782s\u001b[0m 87s/step - accuracy: 1.0000 - loss: 8.2265e-27 - val_accuracy: 1.0000 - val_loss: 3.0476e-35\n",
            "Epoch 4/10\n",
            "\u001b[1m32/32\u001b[0m \u001b[32m━━━━━━━━━━━━━━━━━━━━\u001b[0m\u001b[37m\u001b[0m \u001b[1m322s\u001b[0m 8s/step - accuracy: 1.0000 - loss: 3.5196e-31 - val_accuracy: 1.0000 - val_loss: 3.0478e-35\n",
            "Epoch 5/10\n",
            "\u001b[1m32/32\u001b[0m \u001b[32m━━━━━━━━━━━━━━━━━━━━\u001b[0m\u001b[37m\u001b[0m \u001b[1m2782s\u001b[0m 86s/step - accuracy: 1.0000 - loss: 2.3298e-28 - val_accuracy: 1.0000 - val_loss: 2.1475e-35\n",
            "Epoch 6/10\n",
            "\u001b[1m32/32\u001b[0m \u001b[32m━━━━━━━━━━━━━━━━━━━━\u001b[0m\u001b[37m\u001b[0m \u001b[1m322s\u001b[0m 8s/step - accuracy: 1.0000 - loss: 1.2695e-28 - val_accuracy: 1.0000 - val_loss: 2.1079e-35\n",
            "Epoch 7/10\n",
            "\u001b[1m32/32\u001b[0m \u001b[32m━━━━━━━━━━━━━━━━━━━━\u001b[0m\u001b[37m\u001b[0m \u001b[1m2781s\u001b[0m 87s/step - accuracy: 1.0000 - loss: 1.5426e-28 - val_accuracy: 1.0000 - val_loss: 2.0240e-35\n",
            "Epoch 8/10\n",
            "\u001b[1m32/32\u001b[0m \u001b[32m━━━━━━━━━━━━━━━━━━━━\u001b[0m\u001b[37m\u001b[0m \u001b[1m322s\u001b[0m 8s/step - accuracy: 1.0000 - loss: 1.6570e-29 - val_accuracy: 1.0000 - val_loss: 2.1194e-35\n",
            "Epoch 9/10\n",
            "\u001b[1m32/32\u001b[0m \u001b[32m━━━━━━━━━━━━━━━━━━━━\u001b[0m\u001b[37m\u001b[0m \u001b[1m2773s\u001b[0m 85s/step - accuracy: 1.0000 - loss: 2.1997e-27 - val_accuracy: 1.0000 - val_loss: 2.0595e-35\n",
            "Epoch 10/10\n",
            "\u001b[1m32/32\u001b[0m \u001b[32m━━━━━━━━━━━━━━━━━━━━\u001b[0m\u001b[37m\u001b[0m \u001b[1m269s\u001b[0m 6s/step - accuracy: 1.0000 - loss: 8.6800e-32 - val_accuracy: 1.0000 - val_loss: 2.0555e-35\n"
          ]
        }
      ],
      "source": [
        "# Train the model\n",
        "history = model.fit(\n",
        "    train_generator,\n",
        "    steps_per_epoch=train_generator.samples // train_generator.batch_size,\n",
        "    validation_data=val_generator,\n",
        "    validation_steps=val_generator.samples // val_generator.batch_size,\n",
        "    epochs=10  # Adjust epochs based on requirements\n",
        ")\n"
      ]
    },
    {
      "cell_type": "markdown",
      "source": [
        "10.EVALUATE THE MODEL"
      ],
      "metadata": {
        "id": "QrjGWdpZoVhL"
      }
    },
    {
      "cell_type": "code",
      "execution_count": 11,
      "metadata": {
        "id": "FZhwLF-ypfAq",
        "colab": {
          "base_uri": "https://localhost:8080/"
        },
        "outputId": "b3859b1f-ebec-4b41-f7fe-78d6e5055fb8"
      },
      "outputs": [
        {
          "output_type": "stream",
          "name": "stdout",
          "text": [
            "\u001b[1m9/9\u001b[0m \u001b[32m━━━━━━━━━━━━━━━━━━━━\u001b[0m\u001b[37m\u001b[0m \u001b[1m194s\u001b[0m 21s/step - accuracy: 1.0000 - loss: 2.2453e-35\n",
            "Test Accuracy: 100.00%\n"
          ]
        }
      ],
      "source": [
        "# Step 7: Evaluate on Test Set\n",
        "test_loss, test_accuracy = model.evaluate(val_generator)\n",
        "print(f\"Test Accuracy: {test_accuracy * 100:.2f}%\")"
      ]
    },
    {
      "cell_type": "code",
      "execution_count": 12,
      "metadata": {
        "id": "ASFffxyothCJ"
      },
      "outputs": [],
      "source": [
        "from tensorflow.keras import layers,models"
      ]
    },
    {
      "cell_type": "markdown",
      "source": [
        "11.SAVE THE MODEL"
      ],
      "metadata": {
        "id": "yA4tka7BoY4J"
      }
    },
    {
      "cell_type": "code",
      "execution_count": 13,
      "metadata": {
        "id": "BgDSIONdtjuo",
        "colab": {
          "base_uri": "https://localhost:8080/"
        },
        "outputId": "67450ae3-92d3-4429-b7ee-1122f1cd3bbf"
      },
      "outputs": [
        {
          "output_type": "stream",
          "name": "stderr",
          "text": [
            "WARNING:absl:You are saving your model as an HDF5 file via `model.save()` or `keras.saving.save_model(model)`. This file format is considered legacy. We recommend using instead the native Keras format, e.g. `model.save('my_model.keras')` or `keras.saving.save_model(model, 'my_model.keras')`. \n"
          ]
        }
      ],
      "source": [
        "model.save('vgg_19_model.h5')"
      ]
    },
    {
      "cell_type": "markdown",
      "source": [],
      "metadata": {
        "id": "ufRzMO0579mF"
      }
    },
    {
      "cell_type": "code",
      "execution_count": 13,
      "metadata": {
        "id": "T1ltT8SbCy8X"
      },
      "outputs": [],
      "source": []
    }
  ],
  "metadata": {
    "colab": {
      "provenance": []
    },
    "kernelspec": {
      "display_name": "Python 3",
      "name": "python3"
    },
    "language_info": {
      "name": "python"
    }
  },
  "nbformat": 4,
  "nbformat_minor": 0
}